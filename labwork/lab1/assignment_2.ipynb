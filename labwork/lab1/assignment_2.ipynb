{
 "cells": [
  {
   "cell_type": "code",
   "execution_count": null,
   "metadata": {
    "collapsed": true
   },
   "outputs": [],
   "source": []
  },
  {
   "cell_type": "code",
   "execution_count": null,
   "metadata": {},
   "outputs": [],
   "source": []
  },
  {
   "cell_type": "code",
   "execution_count": 2,
   "metadata": {},
   "outputs": [
    {
     "name": "stdout",
     "output_type": "stream",
     "text": [
      "13.8025\n",
      "5.35188\n",
      "21.4075\n",
      "5.35188\n",
      "24.5129\n"
     ]
    }
   ],
   "source": [
    "import tensorflow as tf\n",
    "\n",
    "x =tf.constant([8.8,2.3,6.2,5.8])\n",
    "y =tf.constant([7.3,2.6,1.2,9.8])\n",
    "\n",
    "xsum = tf.reduce_sum(x)\n",
    "m=tf.reduce_mean(x)\n",
    "n=tf.reduce_mean(y)\n",
    "init1 = tf.global_variables_initializer()\n",
    "session = tf.Session()\n",
    "session.run(init1)\n",
    "x1=tf.subtract(x,m)\n",
    "mx=tf.multiply(x1,x1)\n",
    "y1=tf.subtract(y,n)\n",
    "my=tf.multiply(y1,y1)\n",
    "xy=tf.multiply(x1,y1)\n",
    "cxy=tf.reduce_sum(xy)\n",
    "print(session.run(cxy))\n",
    "xsum = tf.reduce_sum(mx)\n",
    "ysum = tf.reduce_sum(my)\n",
    "m = tf.divide(xsum,4)\n",
    "print(session.run(m))\n",
    "print(session.run(xsum))\n",
    "m1=tf.divide(cxy,xsum)\n",
    "print(session.run(m))\n",
    "subc=tf.subtract(n,m1)\n",
    "c=tf.multiply(subc,m)\n",
    "print(session.run(c))\n",
    "writer = tf.summary.FileWriter(\"/tmp/tboard/output\", session.graph)\n",
    "writer.close()\n"
   ]
  },
  {
   "cell_type": "code",
   "execution_count": null,
   "metadata": {
    "collapsed": true
   },
   "outputs": [],
   "source": []
  }
 ],
 "metadata": {
  "kernelspec": {
   "display_name": "Python 3",
   "language": "python",
   "name": "python3"
  },
  "language_info": {
   "codemirror_mode": {
    "name": "ipython",
    "version": 3
   },
   "file_extension": ".py",
   "mimetype": "text/x-python",
   "name": "python",
   "nbconvert_exporter": "python",
   "pygments_lexer": "ipython3",
   "version": "3.6.1"
  }
 },
 "nbformat": 4,
 "nbformat_minor": 2
}
